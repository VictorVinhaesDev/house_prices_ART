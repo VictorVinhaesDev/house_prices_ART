{
 "cells": [
  {
   "cell_type": "markdown",
   "id": "9ab1f7a6",
   "metadata": {},
   "source": [
    "# House Prices - Advanced Regression Techniques\n",
    "(Preços de casas - Técnicas Avançadas de Regressão)\n",
    "- Vamos utilizar o [dataset disponível no Kaggle](https://www.kaggle.com/competitions/house-prices-advanced-regression-techniques/overview)"
   ]
  },
  {
   "cell_type": "code",
   "execution_count": 32,
   "id": "0233c934",
   "metadata": {},
   "outputs": [],
   "source": [
    "# Importando o pandas\n",
    "import pandas as pd\n",
    "# Importando o dataset de treino\n",
    "base = pd.read_csv(\"train.csv\")"
   ]
  },
  {
   "cell_type": "code",
   "execution_count": 33,
   "id": "bfd24d0c",
   "metadata": {},
   "outputs": [
    {
     "data": {
      "text/html": [
       "<div>\n",
       "<style scoped>\n",
       "    .dataframe tbody tr th:only-of-type {\n",
       "        vertical-align: middle;\n",
       "    }\n",
       "\n",
       "    .dataframe tbody tr th {\n",
       "        vertical-align: top;\n",
       "    }\n",
       "\n",
       "    .dataframe thead th {\n",
       "        text-align: right;\n",
       "    }\n",
       "</style>\n",
       "<table border=\"1\" class=\"dataframe\">\n",
       "  <thead>\n",
       "    <tr style=\"text-align: right;\">\n",
       "      <th></th>\n",
       "      <th>Id</th>\n",
       "      <th>MSSubClass</th>\n",
       "      <th>MSZoning</th>\n",
       "      <th>LotFrontage</th>\n",
       "      <th>LotArea</th>\n",
       "      <th>Street</th>\n",
       "      <th>Alley</th>\n",
       "      <th>LotShape</th>\n",
       "      <th>LandContour</th>\n",
       "      <th>Utilities</th>\n",
       "      <th>...</th>\n",
       "      <th>PoolArea</th>\n",
       "      <th>PoolQC</th>\n",
       "      <th>Fence</th>\n",
       "      <th>MiscFeature</th>\n",
       "      <th>MiscVal</th>\n",
       "      <th>MoSold</th>\n",
       "      <th>YrSold</th>\n",
       "      <th>SaleType</th>\n",
       "      <th>SaleCondition</th>\n",
       "      <th>SalePrice</th>\n",
       "    </tr>\n",
       "  </thead>\n",
       "  <tbody>\n",
       "    <tr>\n",
       "      <th>0</th>\n",
       "      <td>1</td>\n",
       "      <td>60</td>\n",
       "      <td>RL</td>\n",
       "      <td>65.0</td>\n",
       "      <td>8450</td>\n",
       "      <td>Pave</td>\n",
       "      <td>NaN</td>\n",
       "      <td>Reg</td>\n",
       "      <td>Lvl</td>\n",
       "      <td>AllPub</td>\n",
       "      <td>...</td>\n",
       "      <td>0</td>\n",
       "      <td>NaN</td>\n",
       "      <td>NaN</td>\n",
       "      <td>NaN</td>\n",
       "      <td>0</td>\n",
       "      <td>2</td>\n",
       "      <td>2008</td>\n",
       "      <td>WD</td>\n",
       "      <td>Normal</td>\n",
       "      <td>208500</td>\n",
       "    </tr>\n",
       "    <tr>\n",
       "      <th>1</th>\n",
       "      <td>2</td>\n",
       "      <td>20</td>\n",
       "      <td>RL</td>\n",
       "      <td>80.0</td>\n",
       "      <td>9600</td>\n",
       "      <td>Pave</td>\n",
       "      <td>NaN</td>\n",
       "      <td>Reg</td>\n",
       "      <td>Lvl</td>\n",
       "      <td>AllPub</td>\n",
       "      <td>...</td>\n",
       "      <td>0</td>\n",
       "      <td>NaN</td>\n",
       "      <td>NaN</td>\n",
       "      <td>NaN</td>\n",
       "      <td>0</td>\n",
       "      <td>5</td>\n",
       "      <td>2007</td>\n",
       "      <td>WD</td>\n",
       "      <td>Normal</td>\n",
       "      <td>181500</td>\n",
       "    </tr>\n",
       "    <tr>\n",
       "      <th>2</th>\n",
       "      <td>3</td>\n",
       "      <td>60</td>\n",
       "      <td>RL</td>\n",
       "      <td>68.0</td>\n",
       "      <td>11250</td>\n",
       "      <td>Pave</td>\n",
       "      <td>NaN</td>\n",
       "      <td>IR1</td>\n",
       "      <td>Lvl</td>\n",
       "      <td>AllPub</td>\n",
       "      <td>...</td>\n",
       "      <td>0</td>\n",
       "      <td>NaN</td>\n",
       "      <td>NaN</td>\n",
       "      <td>NaN</td>\n",
       "      <td>0</td>\n",
       "      <td>9</td>\n",
       "      <td>2008</td>\n",
       "      <td>WD</td>\n",
       "      <td>Normal</td>\n",
       "      <td>223500</td>\n",
       "    </tr>\n",
       "    <tr>\n",
       "      <th>3</th>\n",
       "      <td>4</td>\n",
       "      <td>70</td>\n",
       "      <td>RL</td>\n",
       "      <td>60.0</td>\n",
       "      <td>9550</td>\n",
       "      <td>Pave</td>\n",
       "      <td>NaN</td>\n",
       "      <td>IR1</td>\n",
       "      <td>Lvl</td>\n",
       "      <td>AllPub</td>\n",
       "      <td>...</td>\n",
       "      <td>0</td>\n",
       "      <td>NaN</td>\n",
       "      <td>NaN</td>\n",
       "      <td>NaN</td>\n",
       "      <td>0</td>\n",
       "      <td>2</td>\n",
       "      <td>2006</td>\n",
       "      <td>WD</td>\n",
       "      <td>Abnorml</td>\n",
       "      <td>140000</td>\n",
       "    </tr>\n",
       "    <tr>\n",
       "      <th>4</th>\n",
       "      <td>5</td>\n",
       "      <td>60</td>\n",
       "      <td>RL</td>\n",
       "      <td>84.0</td>\n",
       "      <td>14260</td>\n",
       "      <td>Pave</td>\n",
       "      <td>NaN</td>\n",
       "      <td>IR1</td>\n",
       "      <td>Lvl</td>\n",
       "      <td>AllPub</td>\n",
       "      <td>...</td>\n",
       "      <td>0</td>\n",
       "      <td>NaN</td>\n",
       "      <td>NaN</td>\n",
       "      <td>NaN</td>\n",
       "      <td>0</td>\n",
       "      <td>12</td>\n",
       "      <td>2008</td>\n",
       "      <td>WD</td>\n",
       "      <td>Normal</td>\n",
       "      <td>250000</td>\n",
       "    </tr>\n",
       "  </tbody>\n",
       "</table>\n",
       "<p>5 rows × 81 columns</p>\n",
       "</div>"
      ],
      "text/plain": [
       "   Id  MSSubClass MSZoning  LotFrontage  LotArea Street Alley LotShape  \\\n",
       "0   1          60       RL         65.0     8450   Pave   NaN      Reg   \n",
       "1   2          20       RL         80.0     9600   Pave   NaN      Reg   \n",
       "2   3          60       RL         68.0    11250   Pave   NaN      IR1   \n",
       "3   4          70       RL         60.0     9550   Pave   NaN      IR1   \n",
       "4   5          60       RL         84.0    14260   Pave   NaN      IR1   \n",
       "\n",
       "  LandContour Utilities  ... PoolArea PoolQC Fence MiscFeature MiscVal MoSold  \\\n",
       "0         Lvl    AllPub  ...        0    NaN   NaN         NaN       0      2   \n",
       "1         Lvl    AllPub  ...        0    NaN   NaN         NaN       0      5   \n",
       "2         Lvl    AllPub  ...        0    NaN   NaN         NaN       0      9   \n",
       "3         Lvl    AllPub  ...        0    NaN   NaN         NaN       0      2   \n",
       "4         Lvl    AllPub  ...        0    NaN   NaN         NaN       0     12   \n",
       "\n",
       "  YrSold  SaleType  SaleCondition  SalePrice  \n",
       "0   2008        WD         Normal     208500  \n",
       "1   2007        WD         Normal     181500  \n",
       "2   2008        WD         Normal     223500  \n",
       "3   2006        WD        Abnorml     140000  \n",
       "4   2008        WD         Normal     250000  \n",
       "\n",
       "[5 rows x 81 columns]"
      ]
     },
     "execution_count": 33,
     "metadata": {},
     "output_type": "execute_result"
    }
   ],
   "source": [
    "# Visualizando essa base\n",
    "base.head()"
   ]
  },
  {
   "cell_type": "code",
   "execution_count": 34,
   "id": "3bbab431",
   "metadata": {},
   "outputs": [
    {
     "data": {
      "text/plain": [
       "(1460, 81)"
      ]
     },
     "execution_count": 34,
     "metadata": {},
     "output_type": "execute_result"
    }
   ],
   "source": [
    "# Retornando o shape da base\n",
    "# Perceba que temos muitas colunas\n",
    "base.shape"
   ]
  },
  {
   "cell_type": "code",
   "execution_count": 35,
   "id": "ba3f0cd6",
   "metadata": {},
   "outputs": [
    {
     "name": "stdout",
     "output_type": "stream",
     "text": [
      "<class 'pandas.core.frame.DataFrame'>\n",
      "RangeIndex: 1460 entries, 0 to 1459\n",
      "Data columns (total 81 columns):\n",
      " #   Column         Non-Null Count  Dtype  \n",
      "---  ------         --------------  -----  \n",
      " 0   Id             1460 non-null   int64  \n",
      " 1   MSSubClass     1460 non-null   int64  \n",
      " 2   MSZoning       1460 non-null   object \n",
      " 3   LotFrontage    1201 non-null   float64\n",
      " 4   LotArea        1460 non-null   int64  \n",
      " 5   Street         1460 non-null   object \n",
      " 6   Alley          91 non-null     object \n",
      " 7   LotShape       1460 non-null   object \n",
      " 8   LandContour    1460 non-null   object \n",
      " 9   Utilities      1460 non-null   object \n",
      " 10  LotConfig      1460 non-null   object \n",
      " 11  LandSlope      1460 non-null   object \n",
      " 12  Neighborhood   1460 non-null   object \n",
      " 13  Condition1     1460 non-null   object \n",
      " 14  Condition2     1460 non-null   object \n",
      " 15  BldgType       1460 non-null   object \n",
      " 16  HouseStyle     1460 non-null   object \n",
      " 17  OverallQual    1460 non-null   int64  \n",
      " 18  OverallCond    1460 non-null   int64  \n",
      " 19  YearBuilt      1460 non-null   int64  \n",
      " 20  YearRemodAdd   1460 non-null   int64  \n",
      " 21  RoofStyle      1460 non-null   object \n",
      " 22  RoofMatl       1460 non-null   object \n",
      " 23  Exterior1st    1460 non-null   object \n",
      " 24  Exterior2nd    1460 non-null   object \n",
      " 25  MasVnrType     588 non-null    object \n",
      " 26  MasVnrArea     1452 non-null   float64\n",
      " 27  ExterQual      1460 non-null   object \n",
      " 28  ExterCond      1460 non-null   object \n",
      " 29  Foundation     1460 non-null   object \n",
      " 30  BsmtQual       1423 non-null   object \n",
      " 31  BsmtCond       1423 non-null   object \n",
      " 32  BsmtExposure   1422 non-null   object \n",
      " 33  BsmtFinType1   1423 non-null   object \n",
      " 34  BsmtFinSF1     1460 non-null   int64  \n",
      " 35  BsmtFinType2   1422 non-null   object \n",
      " 36  BsmtFinSF2     1460 non-null   int64  \n",
      " 37  BsmtUnfSF      1460 non-null   int64  \n",
      " 38  TotalBsmtSF    1460 non-null   int64  \n",
      " 39  Heating        1460 non-null   object \n",
      " 40  HeatingQC      1460 non-null   object \n",
      " 41  CentralAir     1460 non-null   object \n",
      " 42  Electrical     1459 non-null   object \n",
      " 43  1stFlrSF       1460 non-null   int64  \n",
      " 44  2ndFlrSF       1460 non-null   int64  \n",
      " 45  LowQualFinSF   1460 non-null   int64  \n",
      " 46  GrLivArea      1460 non-null   int64  \n",
      " 47  BsmtFullBath   1460 non-null   int64  \n",
      " 48  BsmtHalfBath   1460 non-null   int64  \n",
      " 49  FullBath       1460 non-null   int64  \n",
      " 50  HalfBath       1460 non-null   int64  \n",
      " 51  BedroomAbvGr   1460 non-null   int64  \n",
      " 52  KitchenAbvGr   1460 non-null   int64  \n",
      " 53  KitchenQual    1460 non-null   object \n",
      " 54  TotRmsAbvGrd   1460 non-null   int64  \n",
      " 55  Functional     1460 non-null   object \n",
      " 56  Fireplaces     1460 non-null   int64  \n",
      " 57  FireplaceQu    770 non-null    object \n",
      " 58  GarageType     1379 non-null   object \n",
      " 59  GarageYrBlt    1379 non-null   float64\n",
      " 60  GarageFinish   1379 non-null   object \n",
      " 61  GarageCars     1460 non-null   int64  \n",
      " 62  GarageArea     1460 non-null   int64  \n",
      " 63  GarageQual     1379 non-null   object \n",
      " 64  GarageCond     1379 non-null   object \n",
      " 65  PavedDrive     1460 non-null   object \n",
      " 66  WoodDeckSF     1460 non-null   int64  \n",
      " 67  OpenPorchSF    1460 non-null   int64  \n",
      " 68  EnclosedPorch  1460 non-null   int64  \n",
      " 69  3SsnPorch      1460 non-null   int64  \n",
      " 70  ScreenPorch    1460 non-null   int64  \n",
      " 71  PoolArea       1460 non-null   int64  \n",
      " 72  PoolQC         7 non-null      object \n",
      " 73  Fence          281 non-null    object \n",
      " 74  MiscFeature    54 non-null     object \n",
      " 75  MiscVal        1460 non-null   int64  \n",
      " 76  MoSold         1460 non-null   int64  \n",
      " 77  YrSold         1460 non-null   int64  \n",
      " 78  SaleType       1460 non-null   object \n",
      " 79  SaleCondition  1460 non-null   object \n",
      " 80  SalePrice      1460 non-null   int64  \n",
      "dtypes: float64(3), int64(35), object(43)\n",
      "memory usage: 924.0+ KB\n"
     ]
    }
   ],
   "source": [
    "# E as informações\n",
    "base.info()"
   ]
  },
  {
   "cell_type": "markdown",
   "id": "2db0cfd3",
   "metadata": {},
   "source": [
    "## Começando a explorar os dados"
   ]
  },
  {
   "cell_type": "code",
   "execution_count": 36,
   "id": "b6528772",
   "metadata": {},
   "outputs": [
    {
     "data": {
      "text/plain": [
       "Id                 0\n",
       "MSSubClass         0\n",
       "MSZoning           0\n",
       "LotFrontage      259\n",
       "LotArea            0\n",
       "                ... \n",
       "MoSold             0\n",
       "YrSold             0\n",
       "SaleType           0\n",
       "SaleCondition      0\n",
       "SalePrice          0\n",
       "Length: 81, dtype: int64"
      ]
     },
     "execution_count": 36,
     "metadata": {},
     "output_type": "execute_result"
    }
   ],
   "source": [
    "# Visualizando quantidade de valores vazios\n",
    "# Por ter muitas colunas não podemos ver direito veja como resolcver isso no próximo código\n",
    "base.isnull().sum()"
   ]
  },
  {
   "cell_type": "code",
   "execution_count": 37,
   "id": "84bfe80a",
   "metadata": {},
   "outputs": [
    {
     "data": {
      "text/plain": [
       "PoolQC          1453\n",
       "MiscFeature     1406\n",
       "Alley           1369\n",
       "Fence           1179\n",
       "MasVnrType       872\n",
       "FireplaceQu      690\n",
       "LotFrontage      259\n",
       "GarageYrBlt       81\n",
       "GarageCond        81\n",
       "GarageType        81\n",
       "GarageFinish      81\n",
       "GarageQual        81\n",
       "BsmtFinType2      38\n",
       "BsmtExposure      38\n",
       "BsmtQual          37\n",
       "BsmtCond          37\n",
       "BsmtFinType1      37\n",
       "MasVnrArea         8\n",
       "Electrical         1\n",
       "Id                 0\n",
       "Functional         0\n",
       "Fireplaces         0\n",
       "KitchenQual        0\n",
       "KitchenAbvGr       0\n",
       "BedroomAbvGr       0\n",
       "dtype: int64"
      ]
     },
     "execution_count": 37,
     "metadata": {},
     "output_type": "execute_result"
    }
   ],
   "source": [
    "# Agora sim podemos ver aonde temos valores vazios\n",
    "base.isnull().sum().sort_values(ascending=False).head(25)"
   ]
  },
  {
   "cell_type": "markdown",
   "id": "0189c055",
   "metadata": {},
   "source": [
    "### Podemos eliminar as colunas com mais de 10% de valores vazios"
   ]
  },
  {
   "cell_type": "code",
   "execution_count": 38,
   "id": "e8c00103",
   "metadata": {},
   "outputs": [
    {
     "data": {
      "text/plain": [
       "1460"
      ]
     },
     "execution_count": 38,
     "metadata": {},
     "output_type": "execute_result"
    }
   ],
   "source": [
    "# Numero de colunas\n",
    "base.shape[0]"
   ]
  },
  {
   "cell_type": "code",
   "execution_count": 39,
   "id": "afd57e56",
   "metadata": {},
   "outputs": [
    {
     "data": {
      "text/plain": [
       "PoolQC          0.995205\n",
       "MiscFeature     0.963014\n",
       "Alley           0.937671\n",
       "Fence           0.807534\n",
       "MasVnrType      0.597260\n",
       "FireplaceQu     0.472603\n",
       "LotFrontage     0.177397\n",
       "GarageYrBlt     0.055479\n",
       "GarageCond      0.055479\n",
       "GarageType      0.055479\n",
       "GarageFinish    0.055479\n",
       "GarageQual      0.055479\n",
       "BsmtFinType2    0.026027\n",
       "BsmtExposure    0.026027\n",
       "BsmtQual        0.025342\n",
       "BsmtCond        0.025342\n",
       "BsmtFinType1    0.025342\n",
       "MasVnrArea      0.005479\n",
       "Electrical      0.000685\n",
       "Id              0.000000\n",
       "Functional      0.000000\n",
       "Fireplaces      0.000000\n",
       "KitchenQual     0.000000\n",
       "KitchenAbvGr    0.000000\n",
       "BedroomAbvGr    0.000000\n",
       "dtype: float64"
      ]
     },
     "execution_count": 39,
     "metadata": {},
     "output_type": "execute_result"
    }
   ],
   "source": [
    "# Filtrando pela porcentagem baseada na coluna\n",
    "# exemplo \"PoolQC\" tem 99% de valores nulos\n",
    "(base.isnull().sum()/base.shape[0]).sort_values(ascending=False).head(25)"
   ]
  },
  {
   "cell_type": "code",
   "execution_count": 40,
   "id": "3a74f257",
   "metadata": {},
   "outputs": [
    {
     "data": {
      "text/plain": [
       "Index(['LotFrontage', 'Alley', 'MasVnrType', 'FireplaceQu', 'PoolQC', 'Fence',\n",
       "       'MiscFeature'],\n",
       "      dtype='object')"
      ]
     },
     "execution_count": 40,
     "metadata": {},
     "output_type": "execute_result"
    }
   ],
   "source": [
    "# Pegando as colunas aonde tem valores maiores que 10% para excluir no próximo código \n",
    "colunas_nulas = base.columns[(base.isnull().sum()/base.shape[0]) > 0.10]\n",
    "colunas_nulas"
   ]
  },
  {
   "cell_type": "code",
   "execution_count": 41,
   "id": "ff97453f",
   "metadata": {},
   "outputs": [],
   "source": [
    "# Eliminando essas colunas\n",
    "base = base.drop(colunas_nulas, axis=1)"
   ]
  },
  {
   "cell_type": "code",
   "execution_count": 42,
   "id": "5b363f7a",
   "metadata": {},
   "outputs": [
    {
     "data": {
      "text/plain": [
       "GarageType       0.055479\n",
       "GarageCond       0.055479\n",
       "GarageYrBlt      0.055479\n",
       "GarageFinish     0.055479\n",
       "GarageQual       0.055479\n",
       "BsmtFinType2     0.026027\n",
       "BsmtExposure     0.026027\n",
       "BsmtFinType1     0.025342\n",
       "BsmtCond         0.025342\n",
       "BsmtQual         0.025342\n",
       "MasVnrArea       0.005479\n",
       "Electrical       0.000685\n",
       "WoodDeckSF       0.000000\n",
       "PavedDrive       0.000000\n",
       "LowQualFinSF     0.000000\n",
       "GrLivArea        0.000000\n",
       "BsmtFullBath     0.000000\n",
       "BsmtHalfBath     0.000000\n",
       "FullBath         0.000000\n",
       "HalfBath         0.000000\n",
       "SaleCondition    0.000000\n",
       "BedroomAbvGr     0.000000\n",
       "SaleType         0.000000\n",
       "YrSold           0.000000\n",
       "MoSold           0.000000\n",
       "dtype: float64"
      ]
     },
     "execution_count": 42,
     "metadata": {},
     "output_type": "execute_result"
    }
   ],
   "source": [
    "# Tudo maior q 0.10 foi excluido\n",
    "(base.isnull().sum()/base.shape[0]).sort_values(ascending=False).head(25)"
   ]
  },
  {
   "cell_type": "code",
   "execution_count": 43,
   "id": "e77b29cd",
   "metadata": {},
   "outputs": [
    {
     "data": {
      "text/plain": [
       "(1460, 74)"
      ]
     },
     "execution_count": 43,
     "metadata": {},
     "output_type": "execute_result"
    }
   ],
   "source": [
    "base.shape"
   ]
  },
  {
   "cell_type": "markdown",
   "id": "7e83cd85",
   "metadata": {},
   "source": [
    "### Escolhendo as colunas que contem apenas números\n",
    "    - Vamos **eliminar as colunas de texto**\n",
    "    - Precisamos **tratar os valores vazios**"
   ]
  },
  {
   "cell_type": "code",
   "execution_count": 44,
   "id": "572df872",
   "metadata": {},
   "outputs": [],
   "source": [
    "# Selecionando apenas as colunas numéricas\n",
    "colunas = base.columns[base.dtypes != \"object\"]"
   ]
  },
  {
   "cell_type": "code",
   "execution_count": 45,
   "id": "d9ee1178",
   "metadata": {},
   "outputs": [
    {
     "data": {
      "text/html": [
       "<div>\n",
       "<style scoped>\n",
       "    .dataframe tbody tr th:only-of-type {\n",
       "        vertical-align: middle;\n",
       "    }\n",
       "\n",
       "    .dataframe tbody tr th {\n",
       "        vertical-align: top;\n",
       "    }\n",
       "\n",
       "    .dataframe thead th {\n",
       "        text-align: right;\n",
       "    }\n",
       "</style>\n",
       "<table border=\"1\" class=\"dataframe\">\n",
       "  <thead>\n",
       "    <tr style=\"text-align: right;\">\n",
       "      <th></th>\n",
       "      <th>Id</th>\n",
       "      <th>MSSubClass</th>\n",
       "      <th>LotArea</th>\n",
       "      <th>OverallQual</th>\n",
       "      <th>OverallCond</th>\n",
       "      <th>YearBuilt</th>\n",
       "      <th>YearRemodAdd</th>\n",
       "      <th>MasVnrArea</th>\n",
       "      <th>BsmtFinSF1</th>\n",
       "      <th>BsmtFinSF2</th>\n",
       "      <th>...</th>\n",
       "      <th>WoodDeckSF</th>\n",
       "      <th>OpenPorchSF</th>\n",
       "      <th>EnclosedPorch</th>\n",
       "      <th>3SsnPorch</th>\n",
       "      <th>ScreenPorch</th>\n",
       "      <th>PoolArea</th>\n",
       "      <th>MiscVal</th>\n",
       "      <th>MoSold</th>\n",
       "      <th>YrSold</th>\n",
       "      <th>SalePrice</th>\n",
       "    </tr>\n",
       "  </thead>\n",
       "  <tbody>\n",
       "    <tr>\n",
       "      <th>0</th>\n",
       "      <td>1</td>\n",
       "      <td>60</td>\n",
       "      <td>8450</td>\n",
       "      <td>7</td>\n",
       "      <td>5</td>\n",
       "      <td>2003</td>\n",
       "      <td>2003</td>\n",
       "      <td>196.0</td>\n",
       "      <td>706</td>\n",
       "      <td>0</td>\n",
       "      <td>...</td>\n",
       "      <td>0</td>\n",
       "      <td>61</td>\n",
       "      <td>0</td>\n",
       "      <td>0</td>\n",
       "      <td>0</td>\n",
       "      <td>0</td>\n",
       "      <td>0</td>\n",
       "      <td>2</td>\n",
       "      <td>2008</td>\n",
       "      <td>208500</td>\n",
       "    </tr>\n",
       "    <tr>\n",
       "      <th>1</th>\n",
       "      <td>2</td>\n",
       "      <td>20</td>\n",
       "      <td>9600</td>\n",
       "      <td>6</td>\n",
       "      <td>8</td>\n",
       "      <td>1976</td>\n",
       "      <td>1976</td>\n",
       "      <td>0.0</td>\n",
       "      <td>978</td>\n",
       "      <td>0</td>\n",
       "      <td>...</td>\n",
       "      <td>298</td>\n",
       "      <td>0</td>\n",
       "      <td>0</td>\n",
       "      <td>0</td>\n",
       "      <td>0</td>\n",
       "      <td>0</td>\n",
       "      <td>0</td>\n",
       "      <td>5</td>\n",
       "      <td>2007</td>\n",
       "      <td>181500</td>\n",
       "    </tr>\n",
       "    <tr>\n",
       "      <th>2</th>\n",
       "      <td>3</td>\n",
       "      <td>60</td>\n",
       "      <td>11250</td>\n",
       "      <td>7</td>\n",
       "      <td>5</td>\n",
       "      <td>2001</td>\n",
       "      <td>2002</td>\n",
       "      <td>162.0</td>\n",
       "      <td>486</td>\n",
       "      <td>0</td>\n",
       "      <td>...</td>\n",
       "      <td>0</td>\n",
       "      <td>42</td>\n",
       "      <td>0</td>\n",
       "      <td>0</td>\n",
       "      <td>0</td>\n",
       "      <td>0</td>\n",
       "      <td>0</td>\n",
       "      <td>9</td>\n",
       "      <td>2008</td>\n",
       "      <td>223500</td>\n",
       "    </tr>\n",
       "    <tr>\n",
       "      <th>3</th>\n",
       "      <td>4</td>\n",
       "      <td>70</td>\n",
       "      <td>9550</td>\n",
       "      <td>7</td>\n",
       "      <td>5</td>\n",
       "      <td>1915</td>\n",
       "      <td>1970</td>\n",
       "      <td>0.0</td>\n",
       "      <td>216</td>\n",
       "      <td>0</td>\n",
       "      <td>...</td>\n",
       "      <td>0</td>\n",
       "      <td>35</td>\n",
       "      <td>272</td>\n",
       "      <td>0</td>\n",
       "      <td>0</td>\n",
       "      <td>0</td>\n",
       "      <td>0</td>\n",
       "      <td>2</td>\n",
       "      <td>2006</td>\n",
       "      <td>140000</td>\n",
       "    </tr>\n",
       "    <tr>\n",
       "      <th>4</th>\n",
       "      <td>5</td>\n",
       "      <td>60</td>\n",
       "      <td>14260</td>\n",
       "      <td>8</td>\n",
       "      <td>5</td>\n",
       "      <td>2000</td>\n",
       "      <td>2000</td>\n",
       "      <td>350.0</td>\n",
       "      <td>655</td>\n",
       "      <td>0</td>\n",
       "      <td>...</td>\n",
       "      <td>192</td>\n",
       "      <td>84</td>\n",
       "      <td>0</td>\n",
       "      <td>0</td>\n",
       "      <td>0</td>\n",
       "      <td>0</td>\n",
       "      <td>0</td>\n",
       "      <td>12</td>\n",
       "      <td>2008</td>\n",
       "      <td>250000</td>\n",
       "    </tr>\n",
       "    <tr>\n",
       "      <th>...</th>\n",
       "      <td>...</td>\n",
       "      <td>...</td>\n",
       "      <td>...</td>\n",
       "      <td>...</td>\n",
       "      <td>...</td>\n",
       "      <td>...</td>\n",
       "      <td>...</td>\n",
       "      <td>...</td>\n",
       "      <td>...</td>\n",
       "      <td>...</td>\n",
       "      <td>...</td>\n",
       "      <td>...</td>\n",
       "      <td>...</td>\n",
       "      <td>...</td>\n",
       "      <td>...</td>\n",
       "      <td>...</td>\n",
       "      <td>...</td>\n",
       "      <td>...</td>\n",
       "      <td>...</td>\n",
       "      <td>...</td>\n",
       "      <td>...</td>\n",
       "    </tr>\n",
       "    <tr>\n",
       "      <th>1455</th>\n",
       "      <td>1456</td>\n",
       "      <td>60</td>\n",
       "      <td>7917</td>\n",
       "      <td>6</td>\n",
       "      <td>5</td>\n",
       "      <td>1999</td>\n",
       "      <td>2000</td>\n",
       "      <td>0.0</td>\n",
       "      <td>0</td>\n",
       "      <td>0</td>\n",
       "      <td>...</td>\n",
       "      <td>0</td>\n",
       "      <td>40</td>\n",
       "      <td>0</td>\n",
       "      <td>0</td>\n",
       "      <td>0</td>\n",
       "      <td>0</td>\n",
       "      <td>0</td>\n",
       "      <td>8</td>\n",
       "      <td>2007</td>\n",
       "      <td>175000</td>\n",
       "    </tr>\n",
       "    <tr>\n",
       "      <th>1456</th>\n",
       "      <td>1457</td>\n",
       "      <td>20</td>\n",
       "      <td>13175</td>\n",
       "      <td>6</td>\n",
       "      <td>6</td>\n",
       "      <td>1978</td>\n",
       "      <td>1988</td>\n",
       "      <td>119.0</td>\n",
       "      <td>790</td>\n",
       "      <td>163</td>\n",
       "      <td>...</td>\n",
       "      <td>349</td>\n",
       "      <td>0</td>\n",
       "      <td>0</td>\n",
       "      <td>0</td>\n",
       "      <td>0</td>\n",
       "      <td>0</td>\n",
       "      <td>0</td>\n",
       "      <td>2</td>\n",
       "      <td>2010</td>\n",
       "      <td>210000</td>\n",
       "    </tr>\n",
       "    <tr>\n",
       "      <th>1457</th>\n",
       "      <td>1458</td>\n",
       "      <td>70</td>\n",
       "      <td>9042</td>\n",
       "      <td>7</td>\n",
       "      <td>9</td>\n",
       "      <td>1941</td>\n",
       "      <td>2006</td>\n",
       "      <td>0.0</td>\n",
       "      <td>275</td>\n",
       "      <td>0</td>\n",
       "      <td>...</td>\n",
       "      <td>0</td>\n",
       "      <td>60</td>\n",
       "      <td>0</td>\n",
       "      <td>0</td>\n",
       "      <td>0</td>\n",
       "      <td>0</td>\n",
       "      <td>2500</td>\n",
       "      <td>5</td>\n",
       "      <td>2010</td>\n",
       "      <td>266500</td>\n",
       "    </tr>\n",
       "    <tr>\n",
       "      <th>1458</th>\n",
       "      <td>1459</td>\n",
       "      <td>20</td>\n",
       "      <td>9717</td>\n",
       "      <td>5</td>\n",
       "      <td>6</td>\n",
       "      <td>1950</td>\n",
       "      <td>1996</td>\n",
       "      <td>0.0</td>\n",
       "      <td>49</td>\n",
       "      <td>1029</td>\n",
       "      <td>...</td>\n",
       "      <td>366</td>\n",
       "      <td>0</td>\n",
       "      <td>112</td>\n",
       "      <td>0</td>\n",
       "      <td>0</td>\n",
       "      <td>0</td>\n",
       "      <td>0</td>\n",
       "      <td>4</td>\n",
       "      <td>2010</td>\n",
       "      <td>142125</td>\n",
       "    </tr>\n",
       "    <tr>\n",
       "      <th>1459</th>\n",
       "      <td>1460</td>\n",
       "      <td>20</td>\n",
       "      <td>9937</td>\n",
       "      <td>5</td>\n",
       "      <td>6</td>\n",
       "      <td>1965</td>\n",
       "      <td>1965</td>\n",
       "      <td>0.0</td>\n",
       "      <td>830</td>\n",
       "      <td>290</td>\n",
       "      <td>...</td>\n",
       "      <td>736</td>\n",
       "      <td>68</td>\n",
       "      <td>0</td>\n",
       "      <td>0</td>\n",
       "      <td>0</td>\n",
       "      <td>0</td>\n",
       "      <td>0</td>\n",
       "      <td>6</td>\n",
       "      <td>2008</td>\n",
       "      <td>147500</td>\n",
       "    </tr>\n",
       "  </tbody>\n",
       "</table>\n",
       "<p>1460 rows × 37 columns</p>\n",
       "</div>"
      ],
      "text/plain": [
       "        Id  MSSubClass  LotArea  OverallQual  OverallCond  YearBuilt  \\\n",
       "0        1          60     8450            7            5       2003   \n",
       "1        2          20     9600            6            8       1976   \n",
       "2        3          60    11250            7            5       2001   \n",
       "3        4          70     9550            7            5       1915   \n",
       "4        5          60    14260            8            5       2000   \n",
       "...    ...         ...      ...          ...          ...        ...   \n",
       "1455  1456          60     7917            6            5       1999   \n",
       "1456  1457          20    13175            6            6       1978   \n",
       "1457  1458          70     9042            7            9       1941   \n",
       "1458  1459          20     9717            5            6       1950   \n",
       "1459  1460          20     9937            5            6       1965   \n",
       "\n",
       "      YearRemodAdd  MasVnrArea  BsmtFinSF1  BsmtFinSF2  ...  WoodDeckSF  \\\n",
       "0             2003       196.0         706           0  ...           0   \n",
       "1             1976         0.0         978           0  ...         298   \n",
       "2             2002       162.0         486           0  ...           0   \n",
       "3             1970         0.0         216           0  ...           0   \n",
       "4             2000       350.0         655           0  ...         192   \n",
       "...            ...         ...         ...         ...  ...         ...   \n",
       "1455          2000         0.0           0           0  ...           0   \n",
       "1456          1988       119.0         790         163  ...         349   \n",
       "1457          2006         0.0         275           0  ...           0   \n",
       "1458          1996         0.0          49        1029  ...         366   \n",
       "1459          1965         0.0         830         290  ...         736   \n",
       "\n",
       "      OpenPorchSF  EnclosedPorch  3SsnPorch  ScreenPorch  PoolArea  MiscVal  \\\n",
       "0              61              0          0            0         0        0   \n",
       "1               0              0          0            0         0        0   \n",
       "2              42              0          0            0         0        0   \n",
       "3              35            272          0            0         0        0   \n",
       "4              84              0          0            0         0        0   \n",
       "...           ...            ...        ...          ...       ...      ...   \n",
       "1455           40              0          0            0         0        0   \n",
       "1456            0              0          0            0         0        0   \n",
       "1457           60              0          0            0         0     2500   \n",
       "1458            0            112          0            0         0        0   \n",
       "1459           68              0          0            0         0        0   \n",
       "\n",
       "      MoSold  YrSold  SalePrice  \n",
       "0          2    2008     208500  \n",
       "1          5    2007     181500  \n",
       "2          9    2008     223500  \n",
       "3          2    2006     140000  \n",
       "4         12    2008     250000  \n",
       "...      ...     ...        ...  \n",
       "1455       8    2007     175000  \n",
       "1456       2    2010     210000  \n",
       "1457       5    2010     266500  \n",
       "1458       4    2010     142125  \n",
       "1459       6    2008     147500  \n",
       "\n",
       "[1460 rows x 37 columns]"
      ]
     },
     "execution_count": 45,
     "metadata": {},
     "output_type": "execute_result"
    }
   ],
   "source": [
    "# temos 37 colunas agr antes era 74\n",
    "base[colunas]"
   ]
  },
  {
   "cell_type": "code",
   "execution_count": 46,
   "id": "2bd4e288",
   "metadata": {},
   "outputs": [],
   "source": [
    "# E criar uma nova base com esses valores\n",
    "base2 = base[colunas]"
   ]
  },
  {
   "cell_type": "code",
   "execution_count": 47,
   "id": "3718a7dd",
   "metadata": {
    "scrolled": true
   },
   "outputs": [
    {
     "data": {
      "text/html": [
       "<div>\n",
       "<style scoped>\n",
       "    .dataframe tbody tr th:only-of-type {\n",
       "        vertical-align: middle;\n",
       "    }\n",
       "\n",
       "    .dataframe tbody tr th {\n",
       "        vertical-align: top;\n",
       "    }\n",
       "\n",
       "    .dataframe thead th {\n",
       "        text-align: right;\n",
       "    }\n",
       "</style>\n",
       "<table border=\"1\" class=\"dataframe\">\n",
       "  <thead>\n",
       "    <tr style=\"text-align: right;\">\n",
       "      <th></th>\n",
       "      <th>Id</th>\n",
       "      <th>MSSubClass</th>\n",
       "      <th>LotArea</th>\n",
       "      <th>OverallQual</th>\n",
       "      <th>OverallCond</th>\n",
       "      <th>YearBuilt</th>\n",
       "      <th>YearRemodAdd</th>\n",
       "      <th>MasVnrArea</th>\n",
       "      <th>BsmtFinSF1</th>\n",
       "      <th>BsmtFinSF2</th>\n",
       "      <th>...</th>\n",
       "      <th>WoodDeckSF</th>\n",
       "      <th>OpenPorchSF</th>\n",
       "      <th>EnclosedPorch</th>\n",
       "      <th>3SsnPorch</th>\n",
       "      <th>ScreenPorch</th>\n",
       "      <th>PoolArea</th>\n",
       "      <th>MiscVal</th>\n",
       "      <th>MoSold</th>\n",
       "      <th>YrSold</th>\n",
       "      <th>SalePrice</th>\n",
       "    </tr>\n",
       "  </thead>\n",
       "  <tbody>\n",
       "    <tr>\n",
       "      <th>0</th>\n",
       "      <td>1</td>\n",
       "      <td>60</td>\n",
       "      <td>8450</td>\n",
       "      <td>7</td>\n",
       "      <td>5</td>\n",
       "      <td>2003</td>\n",
       "      <td>2003</td>\n",
       "      <td>196.0</td>\n",
       "      <td>706</td>\n",
       "      <td>0</td>\n",
       "      <td>...</td>\n",
       "      <td>0</td>\n",
       "      <td>61</td>\n",
       "      <td>0</td>\n",
       "      <td>0</td>\n",
       "      <td>0</td>\n",
       "      <td>0</td>\n",
       "      <td>0</td>\n",
       "      <td>2</td>\n",
       "      <td>2008</td>\n",
       "      <td>208500</td>\n",
       "    </tr>\n",
       "    <tr>\n",
       "      <th>1</th>\n",
       "      <td>2</td>\n",
       "      <td>20</td>\n",
       "      <td>9600</td>\n",
       "      <td>6</td>\n",
       "      <td>8</td>\n",
       "      <td>1976</td>\n",
       "      <td>1976</td>\n",
       "      <td>0.0</td>\n",
       "      <td>978</td>\n",
       "      <td>0</td>\n",
       "      <td>...</td>\n",
       "      <td>298</td>\n",
       "      <td>0</td>\n",
       "      <td>0</td>\n",
       "      <td>0</td>\n",
       "      <td>0</td>\n",
       "      <td>0</td>\n",
       "      <td>0</td>\n",
       "      <td>5</td>\n",
       "      <td>2007</td>\n",
       "      <td>181500</td>\n",
       "    </tr>\n",
       "    <tr>\n",
       "      <th>2</th>\n",
       "      <td>3</td>\n",
       "      <td>60</td>\n",
       "      <td>11250</td>\n",
       "      <td>7</td>\n",
       "      <td>5</td>\n",
       "      <td>2001</td>\n",
       "      <td>2002</td>\n",
       "      <td>162.0</td>\n",
       "      <td>486</td>\n",
       "      <td>0</td>\n",
       "      <td>...</td>\n",
       "      <td>0</td>\n",
       "      <td>42</td>\n",
       "      <td>0</td>\n",
       "      <td>0</td>\n",
       "      <td>0</td>\n",
       "      <td>0</td>\n",
       "      <td>0</td>\n",
       "      <td>9</td>\n",
       "      <td>2008</td>\n",
       "      <td>223500</td>\n",
       "    </tr>\n",
       "    <tr>\n",
       "      <th>3</th>\n",
       "      <td>4</td>\n",
       "      <td>70</td>\n",
       "      <td>9550</td>\n",
       "      <td>7</td>\n",
       "      <td>5</td>\n",
       "      <td>1915</td>\n",
       "      <td>1970</td>\n",
       "      <td>0.0</td>\n",
       "      <td>216</td>\n",
       "      <td>0</td>\n",
       "      <td>...</td>\n",
       "      <td>0</td>\n",
       "      <td>35</td>\n",
       "      <td>272</td>\n",
       "      <td>0</td>\n",
       "      <td>0</td>\n",
       "      <td>0</td>\n",
       "      <td>0</td>\n",
       "      <td>2</td>\n",
       "      <td>2006</td>\n",
       "      <td>140000</td>\n",
       "    </tr>\n",
       "    <tr>\n",
       "      <th>4</th>\n",
       "      <td>5</td>\n",
       "      <td>60</td>\n",
       "      <td>14260</td>\n",
       "      <td>8</td>\n",
       "      <td>5</td>\n",
       "      <td>2000</td>\n",
       "      <td>2000</td>\n",
       "      <td>350.0</td>\n",
       "      <td>655</td>\n",
       "      <td>0</td>\n",
       "      <td>...</td>\n",
       "      <td>192</td>\n",
       "      <td>84</td>\n",
       "      <td>0</td>\n",
       "      <td>0</td>\n",
       "      <td>0</td>\n",
       "      <td>0</td>\n",
       "      <td>0</td>\n",
       "      <td>12</td>\n",
       "      <td>2008</td>\n",
       "      <td>250000</td>\n",
       "    </tr>\n",
       "    <tr>\n",
       "      <th>...</th>\n",
       "      <td>...</td>\n",
       "      <td>...</td>\n",
       "      <td>...</td>\n",
       "      <td>...</td>\n",
       "      <td>...</td>\n",
       "      <td>...</td>\n",
       "      <td>...</td>\n",
       "      <td>...</td>\n",
       "      <td>...</td>\n",
       "      <td>...</td>\n",
       "      <td>...</td>\n",
       "      <td>...</td>\n",
       "      <td>...</td>\n",
       "      <td>...</td>\n",
       "      <td>...</td>\n",
       "      <td>...</td>\n",
       "      <td>...</td>\n",
       "      <td>...</td>\n",
       "      <td>...</td>\n",
       "      <td>...</td>\n",
       "      <td>...</td>\n",
       "    </tr>\n",
       "    <tr>\n",
       "      <th>1455</th>\n",
       "      <td>1456</td>\n",
       "      <td>60</td>\n",
       "      <td>7917</td>\n",
       "      <td>6</td>\n",
       "      <td>5</td>\n",
       "      <td>1999</td>\n",
       "      <td>2000</td>\n",
       "      <td>0.0</td>\n",
       "      <td>0</td>\n",
       "      <td>0</td>\n",
       "      <td>...</td>\n",
       "      <td>0</td>\n",
       "      <td>40</td>\n",
       "      <td>0</td>\n",
       "      <td>0</td>\n",
       "      <td>0</td>\n",
       "      <td>0</td>\n",
       "      <td>0</td>\n",
       "      <td>8</td>\n",
       "      <td>2007</td>\n",
       "      <td>175000</td>\n",
       "    </tr>\n",
       "    <tr>\n",
       "      <th>1456</th>\n",
       "      <td>1457</td>\n",
       "      <td>20</td>\n",
       "      <td>13175</td>\n",
       "      <td>6</td>\n",
       "      <td>6</td>\n",
       "      <td>1978</td>\n",
       "      <td>1988</td>\n",
       "      <td>119.0</td>\n",
       "      <td>790</td>\n",
       "      <td>163</td>\n",
       "      <td>...</td>\n",
       "      <td>349</td>\n",
       "      <td>0</td>\n",
       "      <td>0</td>\n",
       "      <td>0</td>\n",
       "      <td>0</td>\n",
       "      <td>0</td>\n",
       "      <td>0</td>\n",
       "      <td>2</td>\n",
       "      <td>2010</td>\n",
       "      <td>210000</td>\n",
       "    </tr>\n",
       "    <tr>\n",
       "      <th>1457</th>\n",
       "      <td>1458</td>\n",
       "      <td>70</td>\n",
       "      <td>9042</td>\n",
       "      <td>7</td>\n",
       "      <td>9</td>\n",
       "      <td>1941</td>\n",
       "      <td>2006</td>\n",
       "      <td>0.0</td>\n",
       "      <td>275</td>\n",
       "      <td>0</td>\n",
       "      <td>...</td>\n",
       "      <td>0</td>\n",
       "      <td>60</td>\n",
       "      <td>0</td>\n",
       "      <td>0</td>\n",
       "      <td>0</td>\n",
       "      <td>0</td>\n",
       "      <td>2500</td>\n",
       "      <td>5</td>\n",
       "      <td>2010</td>\n",
       "      <td>266500</td>\n",
       "    </tr>\n",
       "    <tr>\n",
       "      <th>1458</th>\n",
       "      <td>1459</td>\n",
       "      <td>20</td>\n",
       "      <td>9717</td>\n",
       "      <td>5</td>\n",
       "      <td>6</td>\n",
       "      <td>1950</td>\n",
       "      <td>1996</td>\n",
       "      <td>0.0</td>\n",
       "      <td>49</td>\n",
       "      <td>1029</td>\n",
       "      <td>...</td>\n",
       "      <td>366</td>\n",
       "      <td>0</td>\n",
       "      <td>112</td>\n",
       "      <td>0</td>\n",
       "      <td>0</td>\n",
       "      <td>0</td>\n",
       "      <td>0</td>\n",
       "      <td>4</td>\n",
       "      <td>2010</td>\n",
       "      <td>142125</td>\n",
       "    </tr>\n",
       "    <tr>\n",
       "      <th>1459</th>\n",
       "      <td>1460</td>\n",
       "      <td>20</td>\n",
       "      <td>9937</td>\n",
       "      <td>5</td>\n",
       "      <td>6</td>\n",
       "      <td>1965</td>\n",
       "      <td>1965</td>\n",
       "      <td>0.0</td>\n",
       "      <td>830</td>\n",
       "      <td>290</td>\n",
       "      <td>...</td>\n",
       "      <td>736</td>\n",
       "      <td>68</td>\n",
       "      <td>0</td>\n",
       "      <td>0</td>\n",
       "      <td>0</td>\n",
       "      <td>0</td>\n",
       "      <td>0</td>\n",
       "      <td>6</td>\n",
       "      <td>2008</td>\n",
       "      <td>147500</td>\n",
       "    </tr>\n",
       "  </tbody>\n",
       "</table>\n",
       "<p>1460 rows × 37 columns</p>\n",
       "</div>"
      ],
      "text/plain": [
       "        Id  MSSubClass  LotArea  OverallQual  OverallCond  YearBuilt  \\\n",
       "0        1          60     8450            7            5       2003   \n",
       "1        2          20     9600            6            8       1976   \n",
       "2        3          60    11250            7            5       2001   \n",
       "3        4          70     9550            7            5       1915   \n",
       "4        5          60    14260            8            5       2000   \n",
       "...    ...         ...      ...          ...          ...        ...   \n",
       "1455  1456          60     7917            6            5       1999   \n",
       "1456  1457          20    13175            6            6       1978   \n",
       "1457  1458          70     9042            7            9       1941   \n",
       "1458  1459          20     9717            5            6       1950   \n",
       "1459  1460          20     9937            5            6       1965   \n",
       "\n",
       "      YearRemodAdd  MasVnrArea  BsmtFinSF1  BsmtFinSF2  ...  WoodDeckSF  \\\n",
       "0             2003       196.0         706           0  ...           0   \n",
       "1             1976         0.0         978           0  ...         298   \n",
       "2             2002       162.0         486           0  ...           0   \n",
       "3             1970         0.0         216           0  ...           0   \n",
       "4             2000       350.0         655           0  ...         192   \n",
       "...            ...         ...         ...         ...  ...         ...   \n",
       "1455          2000         0.0           0           0  ...           0   \n",
       "1456          1988       119.0         790         163  ...         349   \n",
       "1457          2006         0.0         275           0  ...           0   \n",
       "1458          1996         0.0          49        1029  ...         366   \n",
       "1459          1965         0.0         830         290  ...         736   \n",
       "\n",
       "      OpenPorchSF  EnclosedPorch  3SsnPorch  ScreenPorch  PoolArea  MiscVal  \\\n",
       "0              61              0          0            0         0        0   \n",
       "1               0              0          0            0         0        0   \n",
       "2              42              0          0            0         0        0   \n",
       "3              35            272          0            0         0        0   \n",
       "4              84              0          0            0         0        0   \n",
       "...           ...            ...        ...          ...       ...      ...   \n",
       "1455           40              0          0            0         0        0   \n",
       "1456            0              0          0            0         0        0   \n",
       "1457           60              0          0            0         0     2500   \n",
       "1458            0            112          0            0         0        0   \n",
       "1459           68              0          0            0         0        0   \n",
       "\n",
       "      MoSold  YrSold  SalePrice  \n",
       "0          2    2008     208500  \n",
       "1          5    2007     181500  \n",
       "2          9    2008     223500  \n",
       "3          2    2006     140000  \n",
       "4         12    2008     250000  \n",
       "...      ...     ...        ...  \n",
       "1455       8    2007     175000  \n",
       "1456       2    2010     210000  \n",
       "1457       5    2010     266500  \n",
       "1458       4    2010     142125  \n",
       "1459       6    2008     147500  \n",
       "\n",
       "[1460 rows x 37 columns]"
      ]
     },
     "execution_count": 47,
     "metadata": {},
     "output_type": "execute_result"
    }
   ],
   "source": [
    "base2"
   ]
  },
  {
   "cell_type": "code",
   "execution_count": 48,
   "id": "f6ee0525",
   "metadata": {},
   "outputs": [
    {
     "data": {
      "text/plain": [
       "GarageYrBlt      81\n",
       "MasVnrArea        8\n",
       "Id                0\n",
       "OpenPorchSF       0\n",
       "KitchenAbvGr      0\n",
       "TotRmsAbvGrd      0\n",
       "Fireplaces        0\n",
       "GarageCars        0\n",
       "GarageArea        0\n",
       "WoodDeckSF        0\n",
       "EnclosedPorch     0\n",
       "HalfBath          0\n",
       "3SsnPorch         0\n",
       "ScreenPorch       0\n",
       "PoolArea          0\n",
       "MiscVal           0\n",
       "MoSold            0\n",
       "YrSold            0\n",
       "BedroomAbvGr      0\n",
       "FullBath          0\n",
       "MSSubClass        0\n",
       "BsmtFinSF2        0\n",
       "LotArea           0\n",
       "OverallQual       0\n",
       "OverallCond       0\n",
       "YearBuilt         0\n",
       "YearRemodAdd      0\n",
       "BsmtFinSF1        0\n",
       "BsmtUnfSF         0\n",
       "BsmtHalfBath      0\n",
       "TotalBsmtSF       0\n",
       "1stFlrSF          0\n",
       "2ndFlrSF          0\n",
       "LowQualFinSF      0\n",
       "GrLivArea         0\n",
       "BsmtFullBath      0\n",
       "SalePrice         0\n",
       "dtype: int64"
      ]
     },
     "execution_count": 48,
     "metadata": {},
     "output_type": "execute_result"
    }
   ],
   "source": [
    "# Verificando os valores vazios\n",
    "# Temos que tratar os valores nulos\n",
    "base2.isnull().sum().sort_values(ascending=False)"
   ]
  },
  {
   "cell_type": "markdown",
   "id": "f3ea05bb",
   "metadata": {},
   "source": [
    "1. **Remover Linhas com Valores Nulos**:\n",
    "   - **Quando usar**: Se a quantidade de valores nulos for pequena e a remoção dessas linhas não afetar significativamente a análise.\n",
    "   - **Vantagem**: Simplicidade e evita introduzir vieses.\n",
    "   - **Desvantagem**: Pode levar à perda de informações valiosas se houver muitos valores nulos.\n",
    "\n",
    "2. **Substituir por Estatísticas (média, mediana, moda)**:\n",
    "   - **Quando usar**: Quando os valores nulos são distribuídos aleatoriamente e a substituição por uma medida central não introduz muito viés.\n",
    "   - **Vantagem**: Mantém o tamanho do dataset e pode ser uma boa aproximação em alguns casos.\n",
    "   - **Desvantagem**: Pode distorcer a distribuição original dos dados.\n",
    "\n",
    "3. **Substituir por um Valor Constante (como -1)**:\n",
    "   - **Quando usar**: Quando o valor nulo tem um significado específico, e a substituição por um valor constante pode ajudar o modelo a distinguir entre valores presentes e ausentes.\n",
    "   - **Vantagem**: Fácil de implementar e pode ser útil para algoritmos que lidam bem com categorias distintas.\n",
    "   - **Desvantagem**: Pode introduzir vieses ou distorcer a distribuição dos dados se o valor constante não fizer sentido no contexto.\n"
   ]
  },
  {
   "cell_type": "code",
   "execution_count": 49,
   "id": "9476d1c5",
   "metadata": {},
   "outputs": [],
   "source": [
    "## Vamos fazer a substituição\n",
    "base2 = base2.fillna(-1)"
   ]
  },
  {
   "cell_type": "code",
   "execution_count": 50,
   "id": "79adde51",
   "metadata": {},
   "outputs": [
    {
     "data": {
      "text/plain": [
       "Id              0\n",
       "HalfBath        0\n",
       "KitchenAbvGr    0\n",
       "dtype: int64"
      ]
     },
     "execution_count": 50,
     "metadata": {},
     "output_type": "execute_result"
    }
   ],
   "source": [
    "base2.isnull().sum().sort_values(ascending=False).head(3)"
   ]
  },
  {
   "cell_type": "markdown",
   "id": "3fe0ffdf",
   "metadata": {},
   "source": [
    "- Essa será nossa base inicial para começar"
   ]
  },
  {
   "cell_type": "markdown",
   "id": "5a686ce6",
   "metadata": {},
   "source": [
    "## Criando nosso modelo"
   ]
  },
  {
   "cell_type": "markdown",
   "id": "ee0b769c",
   "metadata": {},
   "source": [
    "- **Vamos separar em treino e teste**\n",
    "    - https://scikit-learn.org/stable/modules/generated/sklearn.model_selection.train_test_split.html"
   ]
  },
  {
   "cell_type": "code",
   "execution_count": 101,
   "id": "7f7b8193",
   "metadata": {},
   "outputs": [],
   "source": [
    "# Selecionando X e y\n",
    "X = base2.drop('SalePrice',axis=1)\n",
    "y = base2[\"SalePrice\"]"
   ]
  },
  {
   "cell_type": "code",
   "execution_count": 102,
   "id": "6ec49ce2",
   "metadata": {},
   "outputs": [],
   "source": [
    "# Separando essa base em treino e teste\n",
    "from sklearn.model_selection import train_test_split\n",
    "X_train, X_test, y_train, y_test = train_test_split(X, y, test_size=0.33, random_state=42)"
   ]
  },
  {
   "cell_type": "code",
   "execution_count": 108,
   "id": "91772f72",
   "metadata": {},
   "outputs": [
    {
     "data": {
      "text/plain": [
       "(978, 36)"
      ]
     },
     "execution_count": 108,
     "metadata": {},
     "output_type": "execute_result"
    }
   ],
   "source": [
    "X_train.shape"
   ]
  },
  {
   "cell_type": "code",
   "execution_count": 109,
   "id": "03a5f91e",
   "metadata": {},
   "outputs": [
    {
     "data": {
      "text/plain": [
       "(482, 36)"
      ]
     },
     "execution_count": 109,
     "metadata": {},
     "output_type": "execute_result"
    }
   ],
   "source": [
    "X_test.shape"
   ]
  },
  {
   "cell_type": "markdown",
   "id": "72614e5e",
   "metadata": {},
   "source": [
    "### O próximo passo é selecionar os algoritmos que vamos utilizar. Podemos começar com os algoritmos mais simples como:\n",
    "   - Regressão Linear\n",
    "        - https://scikit-learn.org/stable/modules/generated/sklearn.linear_model.LinearRegression.html\n",
    "   - Árvore de Regressão\n",
    "        - https://scikit-learn.org/stable/modules/tree.html#regression\n",
    "   - KNeighborsRegressor\n",
    "        - https://scikit-learn.org/stable/modules/generated/sklearn.neighbors.KNeighborsRegressor.html#sklearn.neighbors.KNeighborsRegressor"
   ]
  },
  {
   "cell_type": "markdown",
   "id": "d431cde6",
   "metadata": {},
   "source": [
    "#### LinearRegression"
   ]
  },
  {
   "cell_type": "code",
   "execution_count": 105,
   "id": "6f242c62",
   "metadata": {},
   "outputs": [],
   "source": [
    "from sklearn.linear_model import LinearRegression\n",
    "reg_Linear = LinearRegression().fit(X_train, y_train)"
   ]
  },
  {
   "cell_type": "code",
   "execution_count": 106,
   "id": "ef74bd7a",
   "metadata": {},
   "outputs": [],
   "source": [
    "pred_Linear = reg_Linear.predict(X_test)"
   ]
  },
  {
   "cell_type": "markdown",
   "id": "de770831",
   "metadata": {},
   "source": [
    "#### DecisionTreeRegressor"
   ]
  },
  {
   "cell_type": "code",
   "execution_count": 110,
   "id": "4a5a86a9",
   "metadata": {},
   "outputs": [],
   "source": [
    "from sklearn.tree import DecisionTreeRegressor\n",
    "reg_DecisionTree = DecisionTreeRegressor().fit(X_train, y_train)"
   ]
  },
  {
   "cell_type": "code",
   "execution_count": 111,
   "id": "d9ed1643",
   "metadata": {},
   "outputs": [],
   "source": [
    "pred_DecisionTree = reg_DecisionTree.predict(X_test)"
   ]
  },
  {
   "cell_type": "markdown",
   "id": "5ff83294",
   "metadata": {},
   "source": [
    "#### KNeighborsRegressor"
   ]
  },
  {
   "cell_type": "code",
   "execution_count": 112,
   "id": "be8f62fa",
   "metadata": {},
   "outputs": [],
   "source": [
    "from sklearn.neighbors import KNeighborsRegressor\n",
    "reg_KNeighbors = KNeighborsRegressor().fit(X_train, y_train)"
   ]
  },
  {
   "cell_type": "code",
   "execution_count": 113,
   "id": "8cc97284",
   "metadata": {},
   "outputs": [],
   "source": [
    "pred_KNeighbors = reg_KNeighbors.predict(X_test)"
   ]
  },
  {
   "cell_type": "markdown",
   "id": "fdd63bff",
   "metadata": {},
   "source": [
    "### Vamos avaliar esses dados, utilizando tanto o erro absoluto quanto o quadrático:\n",
    "   - Erro médio absoluto\n",
    "        - https://scikit-learn.org/stable/modules/generated/sklearn.metrics.mean_absolute_error.html\n",
    "   - Erro quadrático médio\n",
    "        - https://scikit-learn.org/stable/modules/generated/sklearn.metrics.mean_squared_error.html"
   ]
  },
  {
   "cell_type": "code",
   "execution_count": 115,
   "id": "269a3bcd",
   "metadata": {},
   "outputs": [
    {
     "ename": "ImportError",
     "evalue": "cannot import name 'mean_squared_erro' from 'sklearn.metrics' (C:\\Users\\victor\\anaconda3\\Lib\\site-packages\\sklearn\\metrics\\__init__.py)",
     "output_type": "error",
     "traceback": [
      "\u001b[1;31m---------------------------------------------------------------------------\u001b[0m",
      "\u001b[1;31mImportError\u001b[0m                               Traceback (most recent call last)",
      "Cell \u001b[1;32mIn[115], line 2\u001b[0m\n\u001b[0;32m      1\u001b[0m \u001b[38;5;28;01mfrom\u001b[39;00m \u001b[38;5;21;01msklearn\u001b[39;00m\u001b[38;5;21;01m.\u001b[39;00m\u001b[38;5;21;01mmetrics\u001b[39;00m \u001b[38;5;28;01mimport\u001b[39;00m mean_absolute_error\n\u001b[1;32m----> 2\u001b[0m \u001b[38;5;28;01mfrom\u001b[39;00m \u001b[38;5;21;01msklearn\u001b[39;00m\u001b[38;5;21;01m.\u001b[39;00m\u001b[38;5;21;01mmetrics\u001b[39;00m \u001b[38;5;28;01mimport\u001b[39;00m mean_squared_erro\n",
      "\u001b[1;31mImportError\u001b[0m: cannot import name 'mean_squared_erro' from 'sklearn.metrics' (C:\\Users\\victor\\anaconda3\\Lib\\site-packages\\sklearn\\metrics\\__init__.py)"
     ]
    }
   ],
   "source": [
    "from sklearn.metrics import mean_absolute_error\n",
    "from sklearn.metrics import mean_squared_erro"
   ]
  },
  {
   "cell_type": "code",
   "execution_count": 116,
   "id": "8ac2ea1c",
   "metadata": {},
   "outputs": [
    {
     "name": "stdout",
     "output_type": "stream",
     "text": [
      "Erro médio absoluto:  23763.187393064236\n",
      "Erro quadrático médio:  1533982883.4449635\n"
     ]
    }
   ],
   "source": [
    "# LinearRegression \n",
    "\n",
    "L_MAE = mean_absolute_error(y_test, pred_Linear)\n",
    "L_MSE = mean_squared_error(y_test, pred_Linear)\n",
    "\n",
    "print(\"Erro médio absoluto: \", L_MAE)\n",
    "print(\"Erro quadrático médio: \", L_MSE)"
   ]
  },
  {
   "cell_type": "code",
   "execution_count": 117,
   "id": "3d0d3b76",
   "metadata": {},
   "outputs": [
    {
     "name": "stdout",
     "output_type": "stream",
     "text": [
      "Erro médio absoluto:  27308.30082987552\n",
      "Erro quadrático médio:  2046987384.1721992\n"
     ]
    }
   ],
   "source": [
    "# DecisionTreeRegressor\n",
    "\n",
    "DT_MAE = mean_absolute_error(y_test, pred_DecisionTree)\n",
    "DT_MSE = mean_squared_error(y_test, pred_DecisionTree)\n",
    "\n",
    "print(\"Erro médio absoluto: \", DT_MAE)\n",
    "print(\"Erro quadrático médio: \", DT_MSE)"
   ]
  },
  {
   "cell_type": "code",
   "execution_count": 118,
   "id": "ac037eac",
   "metadata": {},
   "outputs": [
    {
     "name": "stdout",
     "output_type": "stream",
     "text": [
      "Erro médio absoluto:  30749.896265560164\n",
      "Erro quadrático médio:  2481601536.82722\n"
     ]
    }
   ],
   "source": [
    "# KNeighborsRegressor\n",
    "\n",
    "KN_MAE = mean_absolute_error(y_test, pred_KNeighbors)\n",
    "KN_MSE = mean_squared_error(y_test, pred_KNeighbors)\n",
    "\n",
    "print(\"Erro médio absoluto: \", KN_MAE)\n",
    "print(\"Erro quadrático médio: \", KN_MSE)"
   ]
  },
  {
   "cell_type": "markdown",
   "id": "67d2ed35",
   "metadata": {},
   "source": [
    "### Usando o selectKBEst para reduzir o número de colunas para usar as mais importantes"
   ]
  },
  {
   "cell_type": "code",
   "execution_count": 119,
   "id": "164f3244",
   "metadata": {},
   "outputs": [],
   "source": [
    "from sklearn.feature_selection import SelectKBest, f_regression\n",
    "selector = SelectKBest(f_regression, k=10)"
   ]
  },
  {
   "cell_type": "code",
   "execution_count": 120,
   "id": "af76d5cb",
   "metadata": {},
   "outputs": [],
   "source": [
    "# Fazendo o fit com os dados\n",
    "X_train_best = selector.fit_transform(X_train, y_train)\n",
    "X_test_best = selector.transform(X_test)"
   ]
  },
  {
   "cell_type": "code",
   "execution_count": 121,
   "id": "e0af25c6",
   "metadata": {},
   "outputs": [
    {
     "data": {
      "text/plain": [
       "(978, 10)"
      ]
     },
     "execution_count": 121,
     "metadata": {},
     "output_type": "execute_result"
    }
   ],
   "source": [
    "# 10 colunas apenas\n",
    "X_train_best.shape"
   ]
  },
  {
   "cell_type": "code",
   "execution_count": 122,
   "id": "d0b3cf8c",
   "metadata": {},
   "outputs": [
    {
     "data": {
      "text/plain": [
       "(482, 10)"
      ]
     },
     "execution_count": 122,
     "metadata": {},
     "output_type": "execute_result"
    }
   ],
   "source": [
    "# 10 colunas apenas\n",
    "X_test_best.shape"
   ]
  },
  {
   "cell_type": "markdown",
   "id": "ddee4c16",
   "metadata": {},
   "source": [
    "### Agora selecionando as melhores colunas 10 colunas com SelectKBest"
   ]
  },
  {
   "cell_type": "code",
   "execution_count": 123,
   "id": "b62593f6",
   "metadata": {},
   "outputs": [
    {
     "name": "stdout",
     "output_type": "stream",
     "text": [
      "Erro médio absoluto:  24554.988675354605\n",
      "Erro quadrático médio:  1548277374.8598723\n"
     ]
    }
   ],
   "source": [
    "# LinearRegression \n",
    "\n",
    "reg_Linear = LinearRegression().fit(X_train_best, y_train)\n",
    "pred_Linear = reg_Linear.predict(X_test_best)\n",
    "\n",
    "L_MAE = mean_absolute_error(y_test, pred_Linear)\n",
    "L_MSE = mean_squared_error(y_test, pred_Linear)\n",
    "\n",
    "print(\"Erro médio absoluto: \", L_MAE)\n",
    "print(\"Erro quadrático médio: \", L_MSE)"
   ]
  },
  {
   "cell_type": "code",
   "execution_count": 125,
   "id": "0c482c13",
   "metadata": {},
   "outputs": [
    {
     "name": "stdout",
     "output_type": "stream",
     "text": [
      "Erro médio absoluto:  27946.340248962657\n",
      "Erro quadrático médio:  2734826782.334717\n"
     ]
    }
   ],
   "source": [
    "# DecisionTreeRegressor\n",
    "\n",
    "reg_DecisionTree = DecisionTreeRegressor().fit(X_train_best, y_train) \n",
    "pred_DecisionTree = reg_DecisionTree.predict(X_test_best)\n",
    "\n",
    "DT_MAE = mean_absolute_error(y_test, pred_DecisionTree)\n",
    "DT_MSE = mean_squared_error(y_test, pred_DecisionTree)\n",
    "\n",
    "print(\"Erro médio absoluto: \", DT_MAE)\n",
    "print(\"Erro quadrático médio: \", DT_MSE)"
   ]
  },
  {
   "cell_type": "code",
   "execution_count": 126,
   "id": "b5e27542",
   "metadata": {},
   "outputs": [
    {
     "name": "stdout",
     "output_type": "stream",
     "text": [
      "Erro médio absoluto:  25037.053112033198\n",
      "Erro quadrático médio:  1739949241.1671371\n"
     ]
    }
   ],
   "source": [
    "# KNeighborsRegressor\n",
    "\n",
    "reg_KNeighbors = KNeighborsRegressor().fit(X_train_best, y_train)\n",
    "pred_KNeighbors = reg_KNeighbors.predict(X_test_best)\n",
    "\n",
    "KN_MAE = mean_absolute_error(y_test, pred_KNeighbors)\n",
    "KN_MSE = mean_squared_error(y_test, pred_KNeighbors)\n",
    "\n",
    "print(\"Erro médio absoluto: \", KN_MAE)\n",
    "print(\"Erro quadrático médio: \", KN_MSE)"
   ]
  },
  {
   "cell_type": "markdown",
   "id": "750debcc",
   "metadata": {},
   "source": [
    "### A decision tree e o kneighbor melhoraram mas diminuiu mas a linear regression piorou mas contina sendo a melhor então vamos continuar com ela usando as colunas todas"
   ]
  },
  {
   "cell_type": "markdown",
   "id": "cf3fd94c",
   "metadata": {},
   "source": [
    "## Vamos agora selecionar os melhores métodos para a \"Linear Regression\""
   ]
  },
  {
   "cell_type": "code",
   "execution_count": 135,
   "id": "5119fc17",
   "metadata": {},
   "outputs": [],
   "source": [
    "from sklearn.model_selection import GridSearchCV\n",
    "# Definindo os parâmetros para o GridSearch\n",
    "param_grid = {\n",
    "    'fit_intercept': [True, False],\n",
    "    'copy_X': [True, False],\n",
    "    'n_jobs': [None, 1, -1],\n",
    "    'positive': [True, False]\n",
    "}\n",
    "\n",
    "\n",
    "# Definir o modelo\n",
    "model = LinearRegression()\n",
    "\n",
    "# Definir a pesquisa de grade com validação cruzada\n",
    "grid_search = GridSearchCV(model, param_grid, cv=5, scoring='neg_mean_squared_error')"
   ]
  },
  {
   "cell_type": "code",
   "execution_count": 136,
   "id": "b9045420",
   "metadata": {},
   "outputs": [
    {
     "name": "stderr",
     "output_type": "stream",
     "text": [
      "C:\\Users\\victor\\anaconda3\\Lib\\site-packages\\scipy\\optimize\\_nnls.py:135: LinAlgWarning: Ill-conditioned matrix (rcond=1.42441e-19): result may not be accurate.\n",
      "  s[P] = solve(AtA[P_ind[:, None], P_ind[None, :]], Atb[P],\n",
      "C:\\Users\\victor\\anaconda3\\Lib\\site-packages\\scipy\\optimize\\_nnls.py:135: LinAlgWarning: Ill-conditioned matrix (rcond=4.38469e-18): result may not be accurate.\n",
      "  s[P] = solve(AtA[P_ind[:, None], P_ind[None, :]], Atb[P],\n",
      "C:\\Users\\victor\\anaconda3\\Lib\\site-packages\\scipy\\optimize\\_nnls.py:135: LinAlgWarning: Ill-conditioned matrix (rcond=1.42441e-19): result may not be accurate.\n",
      "  s[P] = solve(AtA[P_ind[:, None], P_ind[None, :]], Atb[P],\n",
      "C:\\Users\\victor\\anaconda3\\Lib\\site-packages\\scipy\\optimize\\_nnls.py:135: LinAlgWarning: Ill-conditioned matrix (rcond=4.38469e-18): result may not be accurate.\n",
      "  s[P] = solve(AtA[P_ind[:, None], P_ind[None, :]], Atb[P],\n",
      "C:\\Users\\victor\\anaconda3\\Lib\\site-packages\\scipy\\optimize\\_nnls.py:135: LinAlgWarning: Ill-conditioned matrix (rcond=1.42441e-19): result may not be accurate.\n",
      "  s[P] = solve(AtA[P_ind[:, None], P_ind[None, :]], Atb[P],\n",
      "C:\\Users\\victor\\anaconda3\\Lib\\site-packages\\scipy\\optimize\\_nnls.py:135: LinAlgWarning: Ill-conditioned matrix (rcond=4.38469e-18): result may not be accurate.\n",
      "  s[P] = solve(AtA[P_ind[:, None], P_ind[None, :]], Atb[P],\n",
      "C:\\Users\\victor\\anaconda3\\Lib\\site-packages\\scipy\\optimize\\_nnls.py:135: LinAlgWarning: Ill-conditioned matrix (rcond=1.08322e-20): result may not be accurate.\n",
      "  s[P] = solve(AtA[P_ind[:, None], P_ind[None, :]], Atb[P],\n",
      "C:\\Users\\victor\\anaconda3\\Lib\\site-packages\\scipy\\optimize\\_nnls.py:135: LinAlgWarning: Ill-conditioned matrix (rcond=6.58769e-20): result may not be accurate.\n",
      "  s[P] = solve(AtA[P_ind[:, None], P_ind[None, :]], Atb[P],\n",
      "C:\\Users\\victor\\anaconda3\\Lib\\site-packages\\scipy\\optimize\\_nnls.py:135: LinAlgWarning: Ill-conditioned matrix (rcond=9.25091e-20): result may not be accurate.\n",
      "  s[P] = solve(AtA[P_ind[:, None], P_ind[None, :]], Atb[P],\n",
      "C:\\Users\\victor\\anaconda3\\Lib\\site-packages\\scipy\\optimize\\_nnls.py:135: LinAlgWarning: Ill-conditioned matrix (rcond=6.46665e-20): result may not be accurate.\n",
      "  s[P] = solve(AtA[P_ind[:, None], P_ind[None, :]], Atb[P],\n",
      "C:\\Users\\victor\\anaconda3\\Lib\\site-packages\\scipy\\optimize\\_nnls.py:135: LinAlgWarning: Ill-conditioned matrix (rcond=5.91797e-20): result may not be accurate.\n",
      "  s[P] = solve(AtA[P_ind[:, None], P_ind[None, :]], Atb[P],\n",
      "C:\\Users\\victor\\anaconda3\\Lib\\site-packages\\scipy\\optimize\\_nnls.py:135: LinAlgWarning: Ill-conditioned matrix (rcond=1.08322e-20): result may not be accurate.\n",
      "  s[P] = solve(AtA[P_ind[:, None], P_ind[None, :]], Atb[P],\n",
      "C:\\Users\\victor\\anaconda3\\Lib\\site-packages\\scipy\\optimize\\_nnls.py:135: LinAlgWarning: Ill-conditioned matrix (rcond=6.58769e-20): result may not be accurate.\n",
      "  s[P] = solve(AtA[P_ind[:, None], P_ind[None, :]], Atb[P],\n",
      "C:\\Users\\victor\\anaconda3\\Lib\\site-packages\\scipy\\optimize\\_nnls.py:135: LinAlgWarning: Ill-conditioned matrix (rcond=9.25091e-20): result may not be accurate.\n",
      "  s[P] = solve(AtA[P_ind[:, None], P_ind[None, :]], Atb[P],\n",
      "C:\\Users\\victor\\anaconda3\\Lib\\site-packages\\scipy\\optimize\\_nnls.py:135: LinAlgWarning: Ill-conditioned matrix (rcond=6.46665e-20): result may not be accurate.\n",
      "  s[P] = solve(AtA[P_ind[:, None], P_ind[None, :]], Atb[P],\n",
      "C:\\Users\\victor\\anaconda3\\Lib\\site-packages\\scipy\\optimize\\_nnls.py:135: LinAlgWarning: Ill-conditioned matrix (rcond=5.91797e-20): result may not be accurate.\n",
      "  s[P] = solve(AtA[P_ind[:, None], P_ind[None, :]], Atb[P],\n",
      "C:\\Users\\victor\\anaconda3\\Lib\\site-packages\\scipy\\optimize\\_nnls.py:135: LinAlgWarning: Ill-conditioned matrix (rcond=1.08322e-20): result may not be accurate.\n",
      "  s[P] = solve(AtA[P_ind[:, None], P_ind[None, :]], Atb[P],\n",
      "C:\\Users\\victor\\anaconda3\\Lib\\site-packages\\scipy\\optimize\\_nnls.py:135: LinAlgWarning: Ill-conditioned matrix (rcond=6.58769e-20): result may not be accurate.\n",
      "  s[P] = solve(AtA[P_ind[:, None], P_ind[None, :]], Atb[P],\n",
      "C:\\Users\\victor\\anaconda3\\Lib\\site-packages\\scipy\\optimize\\_nnls.py:135: LinAlgWarning: Ill-conditioned matrix (rcond=9.25091e-20): result may not be accurate.\n",
      "  s[P] = solve(AtA[P_ind[:, None], P_ind[None, :]], Atb[P],\n",
      "C:\\Users\\victor\\anaconda3\\Lib\\site-packages\\scipy\\optimize\\_nnls.py:135: LinAlgWarning: Ill-conditioned matrix (rcond=6.46665e-20): result may not be accurate.\n",
      "  s[P] = solve(AtA[P_ind[:, None], P_ind[None, :]], Atb[P],\n",
      "C:\\Users\\victor\\anaconda3\\Lib\\site-packages\\scipy\\optimize\\_nnls.py:135: LinAlgWarning: Ill-conditioned matrix (rcond=5.91797e-20): result may not be accurate.\n",
      "  s[P] = solve(AtA[P_ind[:, None], P_ind[None, :]], Atb[P],\n",
      "C:\\Users\\victor\\anaconda3\\Lib\\site-packages\\scipy\\optimize\\_nnls.py:135: LinAlgWarning: Ill-conditioned matrix (rcond=1.42441e-19): result may not be accurate.\n",
      "  s[P] = solve(AtA[P_ind[:, None], P_ind[None, :]], Atb[P],\n",
      "C:\\Users\\victor\\anaconda3\\Lib\\site-packages\\scipy\\optimize\\_nnls.py:135: LinAlgWarning: Ill-conditioned matrix (rcond=4.38469e-18): result may not be accurate.\n",
      "  s[P] = solve(AtA[P_ind[:, None], P_ind[None, :]], Atb[P],\n",
      "C:\\Users\\victor\\anaconda3\\Lib\\site-packages\\scipy\\optimize\\_nnls.py:135: LinAlgWarning: Ill-conditioned matrix (rcond=1.42441e-19): result may not be accurate.\n",
      "  s[P] = solve(AtA[P_ind[:, None], P_ind[None, :]], Atb[P],\n",
      "C:\\Users\\victor\\anaconda3\\Lib\\site-packages\\scipy\\optimize\\_nnls.py:135: LinAlgWarning: Ill-conditioned matrix (rcond=4.38469e-18): result may not be accurate.\n",
      "  s[P] = solve(AtA[P_ind[:, None], P_ind[None, :]], Atb[P],\n",
      "C:\\Users\\victor\\anaconda3\\Lib\\site-packages\\scipy\\optimize\\_nnls.py:135: LinAlgWarning: Ill-conditioned matrix (rcond=1.42441e-19): result may not be accurate.\n",
      "  s[P] = solve(AtA[P_ind[:, None], P_ind[None, :]], Atb[P],\n",
      "C:\\Users\\victor\\anaconda3\\Lib\\site-packages\\scipy\\optimize\\_nnls.py:135: LinAlgWarning: Ill-conditioned matrix (rcond=4.38469e-18): result may not be accurate.\n",
      "  s[P] = solve(AtA[P_ind[:, None], P_ind[None, :]], Atb[P],\n",
      "C:\\Users\\victor\\anaconda3\\Lib\\site-packages\\scipy\\optimize\\_nnls.py:135: LinAlgWarning: Ill-conditioned matrix (rcond=1.08322e-20): result may not be accurate.\n",
      "  s[P] = solve(AtA[P_ind[:, None], P_ind[None, :]], Atb[P],\n",
      "C:\\Users\\victor\\anaconda3\\Lib\\site-packages\\scipy\\optimize\\_nnls.py:135: LinAlgWarning: Ill-conditioned matrix (rcond=6.58769e-20): result may not be accurate.\n",
      "  s[P] = solve(AtA[P_ind[:, None], P_ind[None, :]], Atb[P],\n",
      "C:\\Users\\victor\\anaconda3\\Lib\\site-packages\\scipy\\optimize\\_nnls.py:135: LinAlgWarning: Ill-conditioned matrix (rcond=9.25091e-20): result may not be accurate.\n",
      "  s[P] = solve(AtA[P_ind[:, None], P_ind[None, :]], Atb[P],\n",
      "C:\\Users\\victor\\anaconda3\\Lib\\site-packages\\scipy\\optimize\\_nnls.py:135: LinAlgWarning: Ill-conditioned matrix (rcond=6.46665e-20): result may not be accurate.\n",
      "  s[P] = solve(AtA[P_ind[:, None], P_ind[None, :]], Atb[P],\n",
      "C:\\Users\\victor\\anaconda3\\Lib\\site-packages\\scipy\\optimize\\_nnls.py:135: LinAlgWarning: Ill-conditioned matrix (rcond=5.91797e-20): result may not be accurate.\n",
      "  s[P] = solve(AtA[P_ind[:, None], P_ind[None, :]], Atb[P],\n",
      "C:\\Users\\victor\\anaconda3\\Lib\\site-packages\\scipy\\optimize\\_nnls.py:135: LinAlgWarning: Ill-conditioned matrix (rcond=1.08322e-20): result may not be accurate.\n",
      "  s[P] = solve(AtA[P_ind[:, None], P_ind[None, :]], Atb[P],\n",
      "C:\\Users\\victor\\anaconda3\\Lib\\site-packages\\scipy\\optimize\\_nnls.py:135: LinAlgWarning: Ill-conditioned matrix (rcond=6.58769e-20): result may not be accurate.\n",
      "  s[P] = solve(AtA[P_ind[:, None], P_ind[None, :]], Atb[P],\n",
      "C:\\Users\\victor\\anaconda3\\Lib\\site-packages\\scipy\\optimize\\_nnls.py:135: LinAlgWarning: Ill-conditioned matrix (rcond=9.25091e-20): result may not be accurate.\n",
      "  s[P] = solve(AtA[P_ind[:, None], P_ind[None, :]], Atb[P],\n",
      "C:\\Users\\victor\\anaconda3\\Lib\\site-packages\\scipy\\optimize\\_nnls.py:135: LinAlgWarning: Ill-conditioned matrix (rcond=6.46665e-20): result may not be accurate.\n",
      "  s[P] = solve(AtA[P_ind[:, None], P_ind[None, :]], Atb[P],\n",
      "C:\\Users\\victor\\anaconda3\\Lib\\site-packages\\scipy\\optimize\\_nnls.py:135: LinAlgWarning: Ill-conditioned matrix (rcond=5.91797e-20): result may not be accurate.\n",
      "  s[P] = solve(AtA[P_ind[:, None], P_ind[None, :]], Atb[P],\n",
      "C:\\Users\\victor\\anaconda3\\Lib\\site-packages\\scipy\\optimize\\_nnls.py:135: LinAlgWarning: Ill-conditioned matrix (rcond=1.08322e-20): result may not be accurate.\n",
      "  s[P] = solve(AtA[P_ind[:, None], P_ind[None, :]], Atb[P],\n",
      "C:\\Users\\victor\\anaconda3\\Lib\\site-packages\\scipy\\optimize\\_nnls.py:135: LinAlgWarning: Ill-conditioned matrix (rcond=6.58769e-20): result may not be accurate.\n",
      "  s[P] = solve(AtA[P_ind[:, None], P_ind[None, :]], Atb[P],\n",
      "C:\\Users\\victor\\anaconda3\\Lib\\site-packages\\scipy\\optimize\\_nnls.py:135: LinAlgWarning: Ill-conditioned matrix (rcond=9.25091e-20): result may not be accurate.\n",
      "  s[P] = solve(AtA[P_ind[:, None], P_ind[None, :]], Atb[P],\n",
      "C:\\Users\\victor\\anaconda3\\Lib\\site-packages\\scipy\\optimize\\_nnls.py:135: LinAlgWarning: Ill-conditioned matrix (rcond=6.46665e-20): result may not be accurate.\n",
      "  s[P] = solve(AtA[P_ind[:, None], P_ind[None, :]], Atb[P],\n",
      "C:\\Users\\victor\\anaconda3\\Lib\\site-packages\\scipy\\optimize\\_nnls.py:135: LinAlgWarning: Ill-conditioned matrix (rcond=5.91797e-20): result may not be accurate.\n",
      "  s[P] = solve(AtA[P_ind[:, None], P_ind[None, :]], Atb[P],\n",
      "C:\\Users\\victor\\anaconda3\\Lib\\site-packages\\sklearn\\model_selection\\_validation.py:378: FitFailedWarning: \n",
      "18 fits failed out of a total of 120.\n",
      "The score on these train-test partitions for these parameters will be set to nan.\n",
      "If these failures are not expected, you can try to debug them by setting error_score='raise'.\n",
      "\n",
      "Below are more details about the failures:\n",
      "--------------------------------------------------------------------------------\n",
      "18 fits failed with the following error:\n",
      "Traceback (most recent call last):\n",
      "  File \"C:\\Users\\victor\\anaconda3\\Lib\\site-packages\\sklearn\\model_selection\\_validation.py\", line 686, in _fit_and_score\n",
      "    estimator.fit(X_train, y_train, **fit_params)\n",
      "  File \"C:\\Users\\victor\\anaconda3\\Lib\\site-packages\\sklearn\\linear_model\\_base.py\", line 669, in fit\n",
      "    self.coef_ = optimize.nnls(X, y)[0]\n",
      "                 ^^^^^^^^^^^^^^^^^^^\n",
      "  File \"C:\\Users\\victor\\anaconda3\\Lib\\site-packages\\scipy\\optimize\\_nnls.py\", line 93, in nnls\n",
      "    raise RuntimeError(\"Maximum number of iterations reached.\")\n",
      "RuntimeError: Maximum number of iterations reached.\n",
      "\n",
      "  warnings.warn(some_fits_failed_message, FitFailedWarning)\n",
      "C:\\Users\\victor\\anaconda3\\Lib\\site-packages\\sklearn\\model_selection\\_search.py:952: UserWarning: One or more of the test scores are non-finite: [            nan -1.62170438e+09             nan -1.62170438e+09\n",
      "             nan -1.62170438e+09             nan -1.61952690e+09\n",
      "             nan -1.61952690e+09             nan -1.61952690e+09\n",
      "             nan -1.62170438e+09             nan -1.62170438e+09\n",
      "             nan -1.62170438e+09             nan -1.61952690e+09\n",
      "             nan -1.61952690e+09             nan -1.61952690e+09]\n",
      "  warnings.warn(\n"
     ]
    },
    {
     "data": {
      "text/html": [
       "<style>#sk-container-id-2 {color: black;background-color: white;}#sk-container-id-2 pre{padding: 0;}#sk-container-id-2 div.sk-toggleable {background-color: white;}#sk-container-id-2 label.sk-toggleable__label {cursor: pointer;display: block;width: 100%;margin-bottom: 0;padding: 0.3em;box-sizing: border-box;text-align: center;}#sk-container-id-2 label.sk-toggleable__label-arrow:before {content: \"▸\";float: left;margin-right: 0.25em;color: #696969;}#sk-container-id-2 label.sk-toggleable__label-arrow:hover:before {color: black;}#sk-container-id-2 div.sk-estimator:hover label.sk-toggleable__label-arrow:before {color: black;}#sk-container-id-2 div.sk-toggleable__content {max-height: 0;max-width: 0;overflow: hidden;text-align: left;background-color: #f0f8ff;}#sk-container-id-2 div.sk-toggleable__content pre {margin: 0.2em;color: black;border-radius: 0.25em;background-color: #f0f8ff;}#sk-container-id-2 input.sk-toggleable__control:checked~div.sk-toggleable__content {max-height: 200px;max-width: 100%;overflow: auto;}#sk-container-id-2 input.sk-toggleable__control:checked~label.sk-toggleable__label-arrow:before {content: \"▾\";}#sk-container-id-2 div.sk-estimator input.sk-toggleable__control:checked~label.sk-toggleable__label {background-color: #d4ebff;}#sk-container-id-2 div.sk-label input.sk-toggleable__control:checked~label.sk-toggleable__label {background-color: #d4ebff;}#sk-container-id-2 input.sk-hidden--visually {border: 0;clip: rect(1px 1px 1px 1px);clip: rect(1px, 1px, 1px, 1px);height: 1px;margin: -1px;overflow: hidden;padding: 0;position: absolute;width: 1px;}#sk-container-id-2 div.sk-estimator {font-family: monospace;background-color: #f0f8ff;border: 1px dotted black;border-radius: 0.25em;box-sizing: border-box;margin-bottom: 0.5em;}#sk-container-id-2 div.sk-estimator:hover {background-color: #d4ebff;}#sk-container-id-2 div.sk-parallel-item::after {content: \"\";width: 100%;border-bottom: 1px solid gray;flex-grow: 1;}#sk-container-id-2 div.sk-label:hover label.sk-toggleable__label {background-color: #d4ebff;}#sk-container-id-2 div.sk-serial::before {content: \"\";position: absolute;border-left: 1px solid gray;box-sizing: border-box;top: 0;bottom: 0;left: 50%;z-index: 0;}#sk-container-id-2 div.sk-serial {display: flex;flex-direction: column;align-items: center;background-color: white;padding-right: 0.2em;padding-left: 0.2em;position: relative;}#sk-container-id-2 div.sk-item {position: relative;z-index: 1;}#sk-container-id-2 div.sk-parallel {display: flex;align-items: stretch;justify-content: center;background-color: white;position: relative;}#sk-container-id-2 div.sk-item::before, #sk-container-id-2 div.sk-parallel-item::before {content: \"\";position: absolute;border-left: 1px solid gray;box-sizing: border-box;top: 0;bottom: 0;left: 50%;z-index: -1;}#sk-container-id-2 div.sk-parallel-item {display: flex;flex-direction: column;z-index: 1;position: relative;background-color: white;}#sk-container-id-2 div.sk-parallel-item:first-child::after {align-self: flex-end;width: 50%;}#sk-container-id-2 div.sk-parallel-item:last-child::after {align-self: flex-start;width: 50%;}#sk-container-id-2 div.sk-parallel-item:only-child::after {width: 0;}#sk-container-id-2 div.sk-dashed-wrapped {border: 1px dashed gray;margin: 0 0.4em 0.5em 0.4em;box-sizing: border-box;padding-bottom: 0.4em;background-color: white;}#sk-container-id-2 div.sk-label label {font-family: monospace;font-weight: bold;display: inline-block;line-height: 1.2em;}#sk-container-id-2 div.sk-label-container {text-align: center;}#sk-container-id-2 div.sk-container {/* jupyter's `normalize.less` sets `[hidden] { display: none; }` but bootstrap.min.css set `[hidden] { display: none !important; }` so we also need the `!important` here to be able to override the default hidden behavior on the sphinx rendered scikit-learn.org. See: https://github.com/scikit-learn/scikit-learn/issues/21755 */display: inline-block !important;position: relative;}#sk-container-id-2 div.sk-text-repr-fallback {display: none;}</style><div id=\"sk-container-id-2\" class=\"sk-top-container\"><div class=\"sk-text-repr-fallback\"><pre>GridSearchCV(cv=5, estimator=LinearRegression(),\n",
       "             param_grid={&#x27;copy_X&#x27;: [True, False],\n",
       "                         &#x27;fit_intercept&#x27;: [True, False],\n",
       "                         &#x27;n_jobs&#x27;: [None, 1, -1], &#x27;positive&#x27;: [True, False]},\n",
       "             scoring=&#x27;neg_mean_squared_error&#x27;)</pre><b>In a Jupyter environment, please rerun this cell to show the HTML representation or trust the notebook. <br />On GitHub, the HTML representation is unable to render, please try loading this page with nbviewer.org.</b></div><div class=\"sk-container\" hidden><div class=\"sk-item sk-dashed-wrapped\"><div class=\"sk-label-container\"><div class=\"sk-label sk-toggleable\"><input class=\"sk-toggleable__control sk-hidden--visually\" id=\"sk-estimator-id-4\" type=\"checkbox\" ><label for=\"sk-estimator-id-4\" class=\"sk-toggleable__label sk-toggleable__label-arrow\">GridSearchCV</label><div class=\"sk-toggleable__content\"><pre>GridSearchCV(cv=5, estimator=LinearRegression(),\n",
       "             param_grid={&#x27;copy_X&#x27;: [True, False],\n",
       "                         &#x27;fit_intercept&#x27;: [True, False],\n",
       "                         &#x27;n_jobs&#x27;: [None, 1, -1], &#x27;positive&#x27;: [True, False]},\n",
       "             scoring=&#x27;neg_mean_squared_error&#x27;)</pre></div></div></div><div class=\"sk-parallel\"><div class=\"sk-parallel-item\"><div class=\"sk-item\"><div class=\"sk-label-container\"><div class=\"sk-label sk-toggleable\"><input class=\"sk-toggleable__control sk-hidden--visually\" id=\"sk-estimator-id-5\" type=\"checkbox\" ><label for=\"sk-estimator-id-5\" class=\"sk-toggleable__label sk-toggleable__label-arrow\">estimator: LinearRegression</label><div class=\"sk-toggleable__content\"><pre>LinearRegression()</pre></div></div></div><div class=\"sk-serial\"><div class=\"sk-item\"><div class=\"sk-estimator sk-toggleable\"><input class=\"sk-toggleable__control sk-hidden--visually\" id=\"sk-estimator-id-6\" type=\"checkbox\" ><label for=\"sk-estimator-id-6\" class=\"sk-toggleable__label sk-toggleable__label-arrow\">LinearRegression</label><div class=\"sk-toggleable__content\"><pre>LinearRegression()</pre></div></div></div></div></div></div></div></div></div></div>"
      ],
      "text/plain": [
       "GridSearchCV(cv=5, estimator=LinearRegression(),\n",
       "             param_grid={'copy_X': [True, False],\n",
       "                         'fit_intercept': [True, False],\n",
       "                         'n_jobs': [None, 1, -1], 'positive': [True, False]},\n",
       "             scoring='neg_mean_squared_error')"
      ]
     },
     "execution_count": 136,
     "metadata": {},
     "output_type": "execute_result"
    }
   ],
   "source": [
    "# Treinar a pesquisa de grade\n",
    "grid_search.fit(X_train, y_train)"
   ]
  },
  {
   "cell_type": "code",
   "execution_count": 137,
   "id": "202f6288",
   "metadata": {},
   "outputs": [
    {
     "name": "stdout",
     "output_type": "stream",
     "text": [
      "Melhores parâmetros encontrados: {'copy_X': True, 'fit_intercept': False, 'n_jobs': None, 'positive': False}\n"
     ]
    }
   ],
   "source": [
    "# Melhor combinação de parâmetros\n",
    "print(\"Melhores parâmetros encontrados:\", grid_search.best_params_)"
   ]
  },
  {
   "cell_type": "code",
   "execution_count": 139,
   "id": "9b909aa4",
   "metadata": {},
   "outputs": [
    {
     "name": "stdout",
     "output_type": "stream",
     "text": [
      "Erro médio absoluto:  23739.3860707073\n",
      "Erro quadrático médio:  1532252269.1390915\n"
     ]
    }
   ],
   "source": [
    "y_pred = grid_search.predict(X_test)\n",
    "\n",
    "\n",
    "LR_MAE = mean_absolute_error(y_test, y_pred)\n",
    "LR_MSE = mean_squared_error(y_test, y_pred)\n",
    "\n",
    "print(\"Erro médio absoluto: \", LR_MAE)\n",
    "print(\"Erro quadrático médio: \", LR_MSE)"
   ]
  },
  {
   "cell_type": "markdown",
   "id": "bbf2127c",
   "metadata": {},
   "source": [
    "### Conseguimos melhorar nosso modelo!!"
   ]
  }
 ],
 "metadata": {
  "kernelspec": {
   "display_name": "Python 3 (ipykernel)",
   "language": "python",
   "name": "python3"
  },
  "language_info": {
   "codemirror_mode": {
    "name": "ipython",
    "version": 3
   },
   "file_extension": ".py",
   "mimetype": "text/x-python",
   "name": "python",
   "nbconvert_exporter": "python",
   "pygments_lexer": "ipython3",
   "version": "3.12.4"
  }
 },
 "nbformat": 4,
 "nbformat_minor": 5
}
